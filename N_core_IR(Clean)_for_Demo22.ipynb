{
  "nbformat": 4,
  "nbformat_minor": 0,
  "metadata": {
    "accelerator": "GPU",
    "colab": {
      "name": "N_core_IR(Clean) for Demo.ipynb",
      "provenance": [],
      "collapsed_sections": []
    },
    "kernelspec": {
      "display_name": "R",
      "name": "ir"
    }
  },
  "cells": [
    {
      "cell_type": "markdown",
      "metadata": {
        "id": "LteXu8Ddnx_c"
      },
      "source": [
        "# Bayesian Runtime Calculator (Adidas) R Colab v0.2\n",
        "\n",
        "<i>The version supports two variants (including control).</i> <br>\n",
        "<i>Separate version release for 3 variants </i>"
      ]
    },
    {
      "cell_type": "markdown",
      "metadata": {
        "id": "SWa6idmHoHx4"
      },
      "source": [
        "### 1. Version Notes\n",
        "<b>Environment:</b><br>\n",
        "R 3.6<br>\n",
        "Required packages-Base R packages and Tidyverse:<br>\n",
        "Upload the source file BayesRun_GCE1.r onto the files pane adjacently.\n",
        "|\n",
        "<b>Runtime Preparation:</b><br>\n",
        "We need to collect a **5-week** sample of total visits and total conversions on the segment.<br>\n",
        "This goes in as an input to five_wk_sz and five_wk_conv interactive inputs <br>"
      ]
    },
    {
      "cell_type": "code",
      "metadata": {
        "id": "sdyV67dk2vGx",
        "colab": {
          "base_uri": "https://localhost:8080/"
        },
        "outputId": "a53104a6-7436-4576-d861-cb1b062f2724"
      },
      "source": [
        "library(\"tidyverse\")\n",
        "library(\"parallel\")\n",
        "source(\"BayesRun_GCE1.R\")"
      ],
      "execution_count": 1,
      "outputs": [
        {
          "output_type": "stream",
          "text": [
            "Warning message in system(\"timedatectl\", intern = TRUE):\n",
            "“running command 'timedatectl' had status 1”\n",
            "── \u001b[1mAttaching packages\u001b[22m ─────────────────────────────────────── tidyverse 1.3.0 ──\n",
            "\n",
            "\u001b[32m✔\u001b[39m \u001b[34mggplot2\u001b[39m 3.3.3     \u001b[32m✔\u001b[39m \u001b[34mpurrr  \u001b[39m 0.3.4\n",
            "\u001b[32m✔\u001b[39m \u001b[34mtibble \u001b[39m 3.1.0     \u001b[32m✔\u001b[39m \u001b[34mdplyr  \u001b[39m 1.0.5\n",
            "\u001b[32m✔\u001b[39m \u001b[34mtidyr  \u001b[39m 1.1.3     \u001b[32m✔\u001b[39m \u001b[34mstringr\u001b[39m 1.4.0\n",
            "\u001b[32m✔\u001b[39m \u001b[34mreadr  \u001b[39m 1.4.0     \u001b[32m✔\u001b[39m \u001b[34mforcats\u001b[39m 0.5.1\n",
            "\n",
            "── \u001b[1mConflicts\u001b[22m ────────────────────────────────────────── tidyverse_conflicts() ──\n",
            "\u001b[31m✖\u001b[39m \u001b[34mdplyr\u001b[39m::\u001b[32mfilter()\u001b[39m masks \u001b[34mstats\u001b[39m::filter()\n",
            "\u001b[31m✖\u001b[39m \u001b[34mdplyr\u001b[39m::\u001b[32mlag()\u001b[39m    masks \u001b[34mstats\u001b[39m::lag()\n",
            "\n"
          ],
          "name": "stderr"
        }
      ]
    },
    {
      "cell_type": "code",
      "metadata": {
        "id": "WXLTcP_C081a"
      },
      "source": [
        ""
      ],
      "execution_count": null,
      "outputs": []
    },
    {
      "cell_type": "markdown",
      "metadata": {
        "id": "HZy9zigBKHka"
      },
      "source": [
        "Before the below cell is executed, make sure the BayesRun_GCE1.R file is uploaded.\n",
        "### 2. Manual input \n",
        "pgt -> Page Type<br>\n",
        "kpi -> Primary KPI tested for<br>\n",
        "Market -> Market coverage for the test <br>\n",
        "f1 -> 5 week total sample collected -  five_wk_sz <br>\n",
        "f2 -> 5 week total conversions -  five_wk_sz <br>\n",
        "<br>\n",
        "mde -> Option is open for processing against multiple MDEs in a batch eg.  <br>\n",
        "To run a against single MDE -> use <b>\" mde = c(2.0) </b> \"  For mde say 2.0  <br>\n",
        "To submit batch for Multiple MDEs -> use <b>\" mde = c(0.5,0.7,0.8,1.0,1.3,1.5,1.8,2.0) \"</b>  |  For mde say between 0.5 & 2.0  <br>\n",
        "#### Carefully input the values for each variable <br>\n",
        "<i>The Page type / KPI/ Market variables are only for debugging/user reference and not mandatory for script execution. <br>\n",
        "f1 & f2 & mde are mandatory var inputs required by the script.<i/>\n",
        "\n",
        "For example:\n",
        "ATP-4220\n",
        "Visits Seg - Outdoor PLPs: **317941**\n",
        "Visits Cov Seg -  Outdoor PLPs > A2C : **197085**\n"
      ]
    },
    {
      "cell_type": "code",
      "metadata": {
        "colab": {
          "base_uri": "https://localhost:8080/"
        },
        "id": "lLBCmk-PTc7z",
        "outputId": "36b9847f-4a82-41d2-a58b-4ee6e5a2aa92"
      },
      "source": [
        "## Manual Input cell 794180\n",
        "\n",
        "pgt = 'Delivery Page' \n",
        "kpi = 'Order Conversion'\n",
        "Market = 'US'\n",
        "f1 = 317941 \n",
        "f2 = 197085 \n",
        "##---------- use c(0.5,0.7,0.8,1.0,1.3,1.5,1.8,2.0) for multiple MDEs --------------##\n",
        "mde= c(2.0)\n",
        "cat(sprintf(\"Conversion Rate: \\\"%f\\\"\\n\", round(f2/f1,7)*100))"
      ],
      "execution_count": 4,
      "outputs": [
        {
          "output_type": "stream",
          "text": [
            "Conversion Rate: \"61.987920\"\n"
          ],
          "name": "stdout"
        }
      ]
    },
    {
      "cell_type": "markdown",
      "metadata": {
        "id": "Q3id0tS5sBWc"
      },
      "source": [
        "# 3. Perform calculations"
      ]
    },
    {
      "cell_type": "code",
      "metadata": {
        "id": "xuURaAoXTdFM"
      },
      "source": [
        "system.time(sim_rope_1 <-\n",
        "  crossing(mde  = c(mde),\n",
        "           power = c(0.8)) %>% \n",
        "  mutate(results = map2_dbl(pgt=pgt,kpi=kpi,mde, power,inc=1,hdi_mass=0.95, five_wk_sz=f1,\n",
        "                five_wk_conv=f2,sim_power)))"
      ],
      "execution_count": null,
      "outputs": []
    },
    {
      "cell_type": "markdown",
      "metadata": {
        "id": "qzW29UF-rbQN"
      },
      "source": [
        "## 4. Display Tabular results"
      ]
    },
    {
      "cell_type": "code",
      "metadata": {
        "colab": {
          "base_uri": "https://localhost:8080/",
          "height": 124
        },
        "id": "3oCf5AzumpdV",
        "outputId": "0b5a9d15-3f05-43f8-91ac-e255045f9c0c"
      },
      "source": [
        "data.frame(sim_rope_1) %>% \n",
        " rename(Sample_Size_per_Variant=results) %>% \n",
        " mutate(Runtime_weeks= ceiling((Sample_Size_per_Variant*2)/(f1/5)))"
      ],
      "execution_count": 6,
      "outputs": [
        {
          "output_type": "display_data",
          "data": {
            "text/plain": [
              "  mde power Sample_Size_per_Variant Runtime_weeks\n",
              "1 2   0.8   14933.27                1            "
            ],
            "text/latex": "A data.frame: 1 × 4\n\\begin{tabular}{llll}\n mde & power & Sample\\_Size\\_per\\_Variant & Runtime\\_weeks\\\\\n <dbl> & <dbl> & <dbl> & <dbl>\\\\\n\\hline\n\t 2 & 0.8 & 14933.27 & 1\\\\\n\\end{tabular}\n",
            "text/markdown": "\nA data.frame: 1 × 4\n\n| mde &lt;dbl&gt; | power &lt;dbl&gt; | Sample_Size_per_Variant &lt;dbl&gt; | Runtime_weeks &lt;dbl&gt; |\n|---|---|---|---|\n| 2 | 0.8 | 14933.27 | 1 |\n\n",
            "text/html": [
              "<table class=\"dataframe\">\n",
              "<caption>A data.frame: 1 × 4</caption>\n",
              "<thead>\n",
              "\t<tr><th scope=col>mde</th><th scope=col>power</th><th scope=col>Sample_Size_per_Variant</th><th scope=col>Runtime_weeks</th></tr>\n",
              "\t<tr><th scope=col>&lt;dbl&gt;</th><th scope=col>&lt;dbl&gt;</th><th scope=col>&lt;dbl&gt;</th><th scope=col>&lt;dbl&gt;</th></tr>\n",
              "</thead>\n",
              "<tbody>\n",
              "\t<tr><td>2</td><td>0.8</td><td>14933.27</td><td>1</td></tr>\n",
              "</tbody>\n",
              "</table>\n"
            ]
          },
          "metadata": {
            "tags": []
          }
        }
      ]
    }
  ]
}